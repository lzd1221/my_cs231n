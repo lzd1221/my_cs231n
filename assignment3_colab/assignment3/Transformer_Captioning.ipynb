{
 "cells": [
  {
   "cell_type": "markdown",
   "id": "0117c691",
   "metadata": {
    "id": "aRvYckCI7qyX",
    "tags": [
     "pdf-title"
    ]
   },
   "source": [
    "# Image Captioning with Transformers\n",
    "You have now implemented a vanilla RNN and for the task of image captioning. In this notebook you will implement key pieces of a transformer decoder to accomplish the same task.\n",
    "\n",
    "**NOTE:** This notebook will be primarily written in PyTorch rather than NumPy, unlike the RNN notebook. "
   ]
  },
  {
   "cell_type": "code",
   "execution_count": 29,
   "id": "29026df9",
   "metadata": {
    "id": "FXCykho37qya",
    "tags": [
     "pdf-ignore"
    ]
   },
   "outputs": [
    {
     "name": "stdout",
     "output_type": "stream",
     "text": [
      "The autoreload extension is already loaded. To reload it, use:\n",
      "  %reload_ext autoreload\n"
     ]
    }
   ],
   "source": [
    "# Setup cell.\n",
    "import time, os, json\n",
    "import numpy as np\n",
    "import matplotlib.pyplot as plt\n",
    "\n",
    "from cs231n.gradient_check import eval_numerical_gradient, eval_numerical_gradient_array\n",
    "from cs231n.transformer_layers import *\n",
    "from cs231n.captioning_solver_transformer import CaptioningSolverTransformer\n",
    "from cs231n.classifiers.transformer import CaptioningTransformer\n",
    "from cs231n.coco_utils import load_coco_data, sample_coco_minibatch, decode_captions\n",
    "from cs231n.image_utils import image_from_url\n",
    "\n",
    "%matplotlib inline\n",
    "plt.rcParams['figure.figsize'] = (10.0, 8.0) # Set default size of plots.\n",
    "plt.rcParams['image.interpolation'] = 'nearest'\n",
    "plt.rcParams['image.cmap'] = 'gray'\n",
    "\n",
    "%load_ext autoreload\n",
    "%autoreload 2\n",
    "\n",
    "def rel_error(x, y):\n",
    "    \"\"\" returns relative error \"\"\"\n",
    "    \n",
    "    return np.max(np.abs(x - y) / (np.maximum(1e-8, np.abs(x) + np.abs(y))))"
   ]
  },
  {
   "cell_type": "markdown",
   "id": "2537c23a",
   "metadata": {
    "id": "fczxReWM7qyd"
   },
   "source": [
    "# COCO Dataset\n",
    "As in the previous notebooks, we will use the COCO dataset for captioning."
   ]
  },
  {
   "cell_type": "code",
   "execution_count": 30,
   "id": "0863d0b4",
   "metadata": {
    "id": "lCKchFVJ7qye"
   },
   "outputs": [
    {
     "name": "stdout",
     "output_type": "stream",
     "text": [
      "base dir  d:\\programm\\cs231n\\assignment3_colab\\assignment3\\cs231n\\datasets/coco_captioning\n",
      "train_captions <class 'numpy.ndarray'> (400135, 17) int32\n",
      "train_image_idxs <class 'numpy.ndarray'> (400135,) int32\n",
      "val_captions <class 'numpy.ndarray'> (195954, 17) int32\n",
      "val_image_idxs <class 'numpy.ndarray'> (195954,) int32\n",
      "train_features <class 'numpy.ndarray'> (82783, 512) float32\n",
      "val_features <class 'numpy.ndarray'> (40504, 512) float32\n",
      "idx_to_word <class 'list'> 1004\n",
      "word_to_idx <class 'dict'> 1004\n",
      "train_urls <class 'numpy.ndarray'> (82783,) <U63\n",
      "val_urls <class 'numpy.ndarray'> (40504,) <U63\n"
     ]
    }
   ],
   "source": [
    "# Load COCO data from disk into a dictionary.\n",
    "data = load_coco_data(pca_features=True)\n",
    "\n",
    "# Print out all the keys and values from the data dictionary.\n",
    "for k, v in data.items():\n",
    "    if type(v) == np.ndarray:\n",
    "        print(k, type(v), v.shape, v.dtype)\n",
    "    else:\n",
    "        print(k, type(v), len(v))"
   ]
  },
  {
   "attachments": {},
   "cell_type": "markdown",
   "id": "9bda7783",
   "metadata": {
    "id": "Go1XDgIn7qyg"
   },
   "source": [
    "# Transformer\n",
    "As you have seen, RNNs are incredibly powerful but often slow to train. Further, RNNs struggle to encode long-range dependencies (though LSTMs are one way of mitigating the issue). In 2017, Vaswani et al introduced the Transformer in their paper [\"Attention Is All You Need\"](https://arxiv.org/abs/1706.03762) to a) introduce parallelism and b) allow models to learn long-range dependencies. The paper not only led to famous models like BERT and GPT in the natural language processing community, but also an explosion of interest across fields, including vision. While here we introduce the model in the context of image captioning, the idea of attention itself is much more general.\n",
    "\n",
    "正如你看到的，RNN很棒但是很慢。而且RNN有长程依赖，尽管LSTM减轻了这个问题。2017年，attention机制提出，允许模型去学习长程依赖。这篇论文不仅仅引发了BERT和GPT等nlp方向的模型，而且也引发了这个领域的更多讨论，包括计算机视觉。\n"
   ]
  },
  {
   "attachments": {},
   "cell_type": "markdown",
   "id": "65ebd72d",
   "metadata": {
    "id": "KqPMDm4F9m0v"
   },
   "source": [
    "# Transformer: Multi-Headed Attention\n",
    "\n",
    "### Dot-Product Attention\n",
    "\n",
    "Recall that attention can be viewed as an operation on a query $q\\in\\mathbb{R}^d$, a set of value vectors $\\{v_1,\\dots,v_n\\}, v_i\\in\\mathbb{R}^d$, and a set of key vectors $\\{k_1,\\dots,k_n\\}, k_i \\in \\mathbb{R}^d$, specified as\n",
    "\n",
    "注意力机制可以看作是在一个Query上和一些键值上进行的操作，可以写作：\n",
    "\n"
   ]
  },
  {
   "cell_type": "markdown",
   "id": "b3d1a5f1",
   "metadata": {
    "id": "91g6XLTr7qyi"
   },
   "source": [
    "\\begin{align}\n",
    "c = \\sum_{i=1}^{n} v_i \\alpha_i &\\alpha_i = \\frac{\\exp(k_i^\\top q)}{\\sum_{j=1}^{n} \\exp(k_j^\\top q)} \\\\\n",
    "\\end{align}"
   ]
  },
  {
   "attachments": {},
   "cell_type": "markdown",
   "id": "48ea83bd",
   "metadata": {
    "id": "7D2wcdeS7qyj"
   },
   "source": [
    "where $\\alpha_i$ are frequently called the \"attention weights\", and the output $c\\in\\mathbb{R}^d$ is a correspondingly weighted average over the value vectors.\n",
    "\n",
    "$\\alpha$ 是注意力权重，输出是带权重的在value vector上的平均值。\n",
    "\n",
    "### Self-Attention\n",
    "In Transformers, we perform self-attention, which means that the values, keys and query are derived from the input $X \\in \\mathbb{R}^{\\ell \\times d}$, where $\\ell$ is our sequence length. Specifically, we learn parameter matrices $V,K,Q \\in \\mathbb{R}^{d\\times d}$ to map our input $X$ as follows:\n",
    "\n",
    "在Transformers中，有自注意力机制，也就是意味着来自输入值x的values，keys和query，然后来学习这些参数。\n"
   ]
  },
  {
   "cell_type": "markdown",
   "id": "be300ef6",
   "metadata": {
    "id": "g2JDsjFU7qyl"
   },
   "source": [
    "\\begin{align}\n",
    "v_i = Vx_i\\ \\ i \\in \\{1,\\dots,\\ell\\}\\\\\n",
    "k_i = Kx_i\\ \\ i \\in \\{1,\\dots,\\ell\\}\\\\\n",
    "q_i = Qx_i\\ \\ i \\in \\{1,\\dots,\\ell\\}\n",
    "\\end{align}"
   ]
  },
  {
   "attachments": {},
   "cell_type": "markdown",
   "id": "5d153e95",
   "metadata": {
    "id": "u5GNjXoW7qyn"
   },
   "source": [
    "### Multi-Headed Scaled Dot-Product Attention\n",
    "In the case of multi-headed attention, we learn a parameter matrix for each head, which gives the model more expressivity to attend to different parts of the input. Let $h$ be number of heads, and $Y_i$ be the attention output of head $i$. Thus we learn individual matrices $Q_i$, $K_i$ and $V_i$. To keep our overall computation the same as the single-headed case, we choose $Q_i \\in \\mathbb{R}^{d\\times d/h}$, $K_i \\in \\mathbb{R}^{d\\times d/h}$ and $V_i \\in \\mathbb{R}^{d\\times d/h}$. Adding in a scaling term $\\frac{1}{\\sqrt{d/h}}$ to our simple dot-product attention above, we have\n",
    "\n",
    "在多头注意力机制中，对于每一个头都会学习一个参数矩阵，这就可以让模型更能对输入的不同部分来针对性的学习表达。\n",
    "\n",
    "h是头的数目，$Y_i$是每个头的输出。这样就分别学了不同头的Q，K，V。为了保持和单头一样的计算情况，加上一些拓展项，最后公式如下："
   ]
  },
  {
   "attachments": {},
   "cell_type": "markdown",
   "id": "4ada2efa",
   "metadata": {
    "id": "cRyHp98f7qyo"
   },
   "source": [
    "\\begin{equation}\n",
    "Y_i = \\text{softmax}\\bigg(\\frac{(XQ_i)(XK_i)^\\top}{\\sqrt{d/h}}\\bigg)(XV_i)\n",
    "\\end{equation}"
   ]
  },
  {
   "attachments": {},
   "cell_type": "markdown",
   "id": "a6352348",
   "metadata": {
    "id": "kzKHMc3g7qyo"
   },
   "source": [
    "where $Y_i\\in\\mathbb{R}^{\\ell \\times d/h}$, where $\\ell$ is our sequence length.\n",
    "\n",
    "\n",
    "\n",
    "In our implementation, we apply dropout to the attention weights (though in practice it could be used at any step):\n",
    "\n",
    "同时引入dropout机制，"
   ]
  },
  {
   "attachments": {},
   "cell_type": "markdown",
   "id": "38e077c3",
   "metadata": {
    "id": "cJFFO4uu7qyp"
   },
   "source": [
    "\\begin{equation}\n",
    "Y_i = \\text{dropout}\\bigg(\\text{softmax}\\bigg(\\frac{(XQ_i)(XK_i)^\\top}{\\sqrt{d/h}}\\bigg)\\bigg)(XV_i)\n",
    "\\end{equation}"
   ]
  },
  {
   "attachments": {},
   "cell_type": "markdown",
   "id": "932284a9",
   "metadata": {
    "id": "5KlyhrBW7qyp"
   },
   "source": [
    "Finally, then the output of the self-attention is a linear transformation of the concatenation of the heads:\n",
    "\n",
    "最后的输出如下："
   ]
  },
  {
   "cell_type": "markdown",
   "id": "bd1ef10b",
   "metadata": {
    "id": "oFR0osPf7qyq"
   },
   "source": [
    "\\begin{equation}\n",
    "Y = [Y_1;\\dots;Y_h]A\n",
    "\\end{equation}"
   ]
  },
  {
   "cell_type": "markdown",
   "id": "9e2d54a2",
   "metadata": {
    "id": "d4G9fKfW7qyq"
   },
   "source": [
    "were $A \\in\\mathbb{R}^{d\\times d}$ and $[Y_1;\\dots;Y_h]\\in\\mathbb{R}^{\\ell \\times d}$.\n",
    "\n",
    "Implement multi-headed scaled dot-product attention in the `MultiHeadAttention` class in the file `cs231n/transformer_layers.py`. The code below will check your implementation. The relative error should be less than `e-3`."
   ]
  },
  {
   "cell_type": "code",
   "execution_count": 56,
   "id": "c1b5f9e3",
   "metadata": {
    "id": "VeixCEKF7qyr",
    "tags": []
   },
   "outputs": [
    {
     "name": "stdout",
     "output_type": "stream",
     "text": [
      "tensor([[ True, False,  True],\n",
      "        [False, False,  True],\n",
      "        [ True,  True, False]])\n",
      "****\n",
      "[[[-0.11478323  0.22491005  0.79904795 -0.43059874 -0.31811863\n",
      "    0.25807855 -0.28032905 -0.3003018 ]\n",
      "  [-0.19969401  0.17462178  0.7377323  -0.35491174 -0.26567712\n",
      "    0.2692597  -0.25412488 -0.24758093]\n",
      "  [-0.16451758  0.15239128  0.69420516 -0.26242474 -0.32211068\n",
      "    0.17814967 -0.33609587 -0.16616529]]]\n",
      "++++++++\n",
      "[[[-0.2494  0.1396  0.4323 -0.2411 -0.1547  0.2329 -0.1936 -0.1444]\n",
      "  [-0.1997  0.1746  0.7377 -0.3549 -0.2657  0.2693 -0.2541 -0.2476]\n",
      "  [-0.0625  0.1503  0.7572 -0.3974 -0.1681  0.2168 -0.2478 -0.3038]]]\n",
      "****\n",
      "[[[-0.13471437  0.19336745  0.8628484  -0.49034023 -0.2614401\n",
      "    0.27981436 -0.25861037 -0.3018789 ]\n",
      "  [-0.5322885  -0.06021851  0.6766724  -0.30141515  0.24486437\n",
      "    0.4310972   0.00793304 -0.17614046]\n",
      "  [-0.11832187  0.23945747  0.71184707 -0.29957366 -0.500533\n",
      "    0.18796887 -0.37922838 -0.2137514 ]]]\n",
      "+++++++++++\n",
      "[[[-0.1347  0.1934  0.8628 -0.4903 -0.2614  0.2798 -0.2586 -0.3019]\n",
      "  [-0.1013  0.3111  0.5783 -0.3248 -0.3842  0.1482 -0.3628 -0.1496]\n",
      "  [-0.2071  0.1669  0.7097 -0.3152 -0.3136  0.252  -0.2774 -0.2208]]]\n",
      "****\n",
      "[[[ 0.16595888  0.36703357  0.23425771 -0.40032277 -0.08222671\n",
      "    0.10999577 -0.4036789  -0.14591715]\n",
      "  [ 0.20941512  0.38835558  0.4454085  -0.47092405 -0.17309526\n",
      "    0.09133527 -0.418051   -0.20770386]\n",
      "  [ 0.19357756  0.29130846  0.41727585 -0.43848643 -0.11196183\n",
      "    0.07357749 -0.40171632 -0.18029122]]]\n",
      "++++++++++\n",
      "[[[-0.198   0.4083  0.1968 -0.3477  0.0321  0.4258 -0.8972 -0.2744]\n",
      "  [-0.1603  0.4155  0.2295 -0.3485 -0.0341  0.3929 -0.8248 -0.2767]\n",
      "  [-0.0908  0.4113  0.3017 -0.3539 -0.102   0.3784 -0.7189 -0.2912]]]\n",
      "self_attn_output error:  0.4493818531828122\n",
      "masked_self_attn_output error:  1.0\n",
      "attn_output error:  1.0\n"
     ]
    }
   ],
   "source": [
    "torch.manual_seed(231)\n",
    "\n",
    "# Choose dimensions such that they are all unique for easier debugging:\n",
    "# Specifically, the following values correspond to N=1, H=2, T=3, E//H=4, and E=8.\n",
    "batch_size = 1\n",
    "sequence_length = 3\n",
    "embed_dim = 8\n",
    "attn = MultiHeadAttention(embed_dim, num_heads=2)\n",
    "\n",
    "# Self-attention.\n",
    "data = torch.randn(batch_size, sequence_length, embed_dim)\n",
    "self_attn_output = attn(query=data, key=data, value=data)\n",
    "\n",
    "# Masked self-attention.\n",
    "mask = torch.randn(sequence_length, sequence_length) < 0.5\n",
    "masked_self_attn_output = attn(query=data, key=data, value=data, attn_mask=mask)\n",
    "print(mask)\n",
    "# Attention using two inputs.\n",
    "other_data = torch.randn(batch_size, sequence_length, embed_dim)\n",
    "attn_output = attn(query=data, key=other_data, value=other_data)\n",
    "\n",
    "expected_self_attn_output = np.asarray([[\n",
    "[-0.2494,  0.1396,  0.4323, -0.2411, -0.1547,  0.2329, -0.1936,\n",
    "          -0.1444],\n",
    "         [-0.1997,  0.1746,  0.7377, -0.3549, -0.2657,  0.2693, -0.2541,\n",
    "          -0.2476],\n",
    "         [-0.0625,  0.1503,  0.7572, -0.3974, -0.1681,  0.2168, -0.2478,\n",
    "          -0.3038]]])\n",
    "\n",
    "expected_masked_self_attn_output = np.asarray([[\n",
    "[-0.1347,  0.1934,  0.8628, -0.4903, -0.2614,  0.2798, -0.2586,\n",
    "          -0.3019],\n",
    "         [-0.1013,  0.3111,  0.5783, -0.3248, -0.3842,  0.1482, -0.3628,\n",
    "          -0.1496],\n",
    "         [-0.2071,  0.1669,  0.7097, -0.3152, -0.3136,  0.2520, -0.2774,\n",
    "          -0.2208]]])\n",
    "\n",
    "expected_attn_output = np.asarray([[\n",
    "[-0.1980,  0.4083,  0.1968, -0.3477,  0.0321,  0.4258, -0.8972,\n",
    "          -0.2744],\n",
    "         [-0.1603,  0.4155,  0.2295, -0.3485, -0.0341,  0.3929, -0.8248,\n",
    "          -0.2767],\n",
    "         [-0.0908,  0.4113,  0.3017, -0.3539, -0.1020,  0.3784, -0.7189,\n",
    "          -0.2912]]])\n",
    "print(\"****\")\n",
    "print(self_attn_output.detach().numpy())\n",
    "print(\"++++++++\")\n",
    "print(expected_self_attn_output)\n",
    "print(\"****\")\n",
    "print(masked_self_attn_output.detach().numpy())\n",
    "print(\"+++++++++++\")\n",
    "print(expected_masked_self_attn_output)\n",
    "print(\"****\")\n",
    "print(attn_output.detach().numpy())\n",
    "print(\"++++++++++\")\n",
    "print(expected_attn_output)\n",
    "print('self_attn_output error: ', rel_error(expected_self_attn_output, self_attn_output.detach().numpy()))\n",
    "print('masked_self_attn_output error: ', rel_error(expected_masked_self_attn_output, masked_self_attn_output.detach().numpy()))\n",
    "print('attn_output error: ', rel_error(expected_attn_output, attn_output.detach().numpy()))"
   ]
  },
  {
   "attachments": {},
   "cell_type": "markdown",
   "id": "f88bf98d",
   "metadata": {
    "id": "tcDBRnqL9m0w"
   },
   "source": [
    "!!!!!!!!!这里不知道为什么输出总是错的，严重怀疑作业给的代码有问题。\n",
    "\n",
    "# Positional Encoding\n",
    "\n",
    "While transformers are able to easily attend to any part of their input, the attention mechanism has no concept of token order. However, for many tasks (especially natural language processing), relative token order is very important. To recover this, the authors add a positional encoding to the embeddings of individual word tokens.\n",
    "\n",
    "虽然模型能很简单的参与到输入的任何部分，注意力机制对于说话顺序其实是没有概念的。然后，对于很多任务，尤其是nlp，token顺序很重要。为了去解决这个问题，作者加入了位置编码来做词嵌入。\n",
    "\n",
    "\n",
    "Let us define a matrix $P \\in \\mathbb{R}^{l\\times d}$, where $P_{ij} = $"
   ]
  },
  {
   "cell_type": "markdown",
   "id": "f732e705",
   "metadata": {
    "id": "zawv8vzV7qyt"
   },
   "source": [
    "$$\n",
    "\\begin{cases}\n",
    "\\text{sin}\\left(i \\cdot 10000^{-\\frac{j}{d}}\\right) & \\text{if j is even} \\\\\n",
    "\\text{cos}\\left(i \\cdot 10000^{-\\frac{(j-1)}{d}}\\right) & \\text{otherwise} \\\\\n",
    "\\end{cases}\n",
    "$$"
   ]
  },
  {
   "cell_type": "markdown",
   "id": "3dd2db01",
   "metadata": {
    "id": "U0fhlupT7qyt"
   },
   "source": [
    "Rather than directly passing an input $X \\in \\mathbb{R}^{l\\times d}$ to our network, we instead pass $X + P$.\n",
    "\n",
    "Implement this layer in `PositionalEncoding` in `cs231n/transformer_layers.py`. Once you are done, run the following to perform a simple test of your implementation. You should see errors on the order of `e-3` or less."
   ]
  },
  {
   "cell_type": "code",
   "execution_count": 55,
   "id": "8c43a8ed",
   "metadata": {
    "id": "gi7px0XK7qyu",
    "tags": []
   },
   "outputs": [
    {
     "name": "stdout",
     "output_type": "stream",
     "text": [
      "[[[-1.234   1.1127  1.6978 -0.0865 -0.      1.2728]\n",
      "  [ 0.9028 -0.4781  0.5535  0.8133  1.2644  1.7034]]]\n",
      "****\n",
      "[[[-1.2339798   1.1126802   1.6978045  -0.08648197 -0.7737276\n",
      "    1.2727616 ]\n",
      "  [ 0.90275854 -0.47806928  0.55348825  0.81330687  1.2644169\n",
      "    1.7033951 ]]]\n",
      "pe_output error:  1.0\n"
     ]
    }
   ],
   "source": [
    "torch.manual_seed(231)\n",
    "\n",
    "batch_size = 1\n",
    "sequence_length = 2\n",
    "embed_dim = 6\n",
    "data = torch.randn(batch_size, sequence_length, embed_dim)\n",
    "\n",
    "pos_encoder = PositionalEncoding(embed_dim)\n",
    "output = pos_encoder(data)\n",
    "\n",
    "expected_pe_output = np.asarray([[[-1.2340,  1.1127,  1.6978, -0.0865, -0.0000,  1.2728],\n",
    "                                  [ 0.9028, -0.4781,  0.5535,  0.8133,  1.2644,  1.7034]]])\n",
    "print(expected_pe_output)\n",
    "print(\"****\")\n",
    "print(output.detach().numpy())\n",
    "print('pe_output error: ', rel_error(expected_pe_output, output.detach().numpy()))"
   ]
  },
  {
   "cell_type": "markdown",
   "id": "aa7dba08",
   "metadata": {
    "id": "LDoSUJ7y7qyv",
    "tags": [
     "pdf-inline"
    ]
   },
   "source": [
    "# Inline Question 1\n",
    "\n",
    "Several key design decisions were made in designing the scaled dot product attention we introduced above. Explain why the following choices were beneficial:\n",
    "1. Using multiple attention heads as opposed to one.\n",
    "2. Dividing by $\\sqrt{d/h}$ before applying the softmax function. Recall that $d$ is the feature dimension and $h$ is the number of heads.\n",
    "3. Adding a linear transformation to the output of the attention operation.\n",
    "\n",
    "Only one or two sentences per choice is necessary, but be sure to be specific in addressing what would have happened without each given implementation detail, why such a situation would be suboptimal, and how the proposed implementation improves the situation.\n",
    "\n",
    "**Your Answer:** \n"
   ]
  },
  {
   "cell_type": "markdown",
   "id": "1b20ff5e",
   "metadata": {
    "id": "AxBcIdRT7vvz"
   },
   "source": [
    "# Transformer for Image Captioning\n",
    "Now that you have implemented the previous layers, you can combine them to build a Transformer-based image captioning model. Open the file `cs231n/classifiers/transformer.py` and look at the `CaptioningTransformer` class.\n",
    "\n",
    "Implement the `forward` function of the class. After doing so, run the following to check your forward pass using a small test case; you should see error on the order of `e-5` or less."
   ]
  },
  {
   "cell_type": "code",
   "execution_count": 57,
   "id": "0792a5da",
   "metadata": {
    "id": "W3Vxnysk72q6"
   },
   "outputs": [
    {
     "name": "stdout",
     "output_type": "stream",
     "text": [
      "scores error:  0.06929485815747748\n"
     ]
    }
   ],
   "source": [
    "torch.manual_seed(231)\n",
    "np.random.seed(231)\n",
    "\n",
    "N, D, W = 4, 20, 30\n",
    "word_to_idx = {'<NULL>': 0, 'cat': 2, 'dog': 3}\n",
    "V = len(word_to_idx)\n",
    "T = 3\n",
    "\n",
    "transformer = CaptioningTransformer(\n",
    "    word_to_idx,\n",
    "    input_dim=D,\n",
    "    wordvec_dim=W,\n",
    "    num_heads=2,\n",
    "    num_layers=2,\n",
    "    max_length=30\n",
    ")\n",
    "\n",
    "# Set all model parameters to fixed values\n",
    "for p in transformer.parameters():\n",
    "    p.data = torch.tensor(np.linspace(-1.4, 1.3, num=p.numel()).reshape(*p.shape))\n",
    "\n",
    "features = torch.tensor(np.linspace(-1.5, 0.3, num=(N * D)).reshape(N, D))\n",
    "captions = torch.tensor((np.arange(N * T) % V).reshape(N, T))\n",
    "\n",
    "scores = transformer(features, captions)\n",
    "expected_scores = np.asarray([[[-16.9532,   4.8261,  26.6054],\n",
    "         [-17.1033,   4.6906,  26.4844],\n",
    "         [-15.0708,   4.1108,  23.2924]],\n",
    "        [[-17.1767,   4.5897,  26.3562],\n",
    "         [-15.6017,   4.8693,  25.3403],\n",
    "         [-15.1028,   4.6905,  24.4839]],\n",
    "        [[-17.2172,   4.7701,  26.7574],\n",
    "         [-16.6755,   4.8500,  26.3754],\n",
    "         [-17.2172,   4.7701,  26.7574]],\n",
    "        [[-16.3669,   4.1602,  24.6872],\n",
    "         [-16.7897,   4.3467,  25.4831],\n",
    "         [-17.0103,   4.7775,  26.5652]]])\n",
    "print('scores error: ', rel_error(expected_scores, scores.detach().numpy()))"
   ]
  },
  {
   "cell_type": "markdown",
   "id": "bb30d64c",
   "metadata": {
    "id": "XwUhSxEx7qyv"
   },
   "source": [
    "# Overfit Transformer Captioning Model on Small Data\n",
    "Run the following to overfit the Transformer-based captioning model on the same small dataset as we used for the RNN previously."
   ]
  },
  {
   "cell_type": "code",
   "execution_count": 58,
   "id": "5a69bc19",
   "metadata": {
    "id": "-HMqJq4T7qyv"
   },
   "outputs": [
    {
     "name": "stdout",
     "output_type": "stream",
     "text": [
      "base dir  d:\\programm\\cs231n\\assignment3_colab\\assignment3\\cs231n\\datasets/coco_captioning\n",
      "(Iteration 1 / 200) loss: 5.019424\n",
      "(Iteration 11 / 200) loss: 2.836273\n",
      "(Iteration 21 / 200) loss: 1.969189\n",
      "(Iteration 31 / 200) loss: 1.579462\n",
      "(Iteration 41 / 200) loss: 1.247860\n",
      "(Iteration 51 / 200) loss: 1.086908\n",
      "(Iteration 61 / 200) loss: 0.672109\n",
      "(Iteration 71 / 200) loss: 0.563014\n",
      "(Iteration 81 / 200) loss: 0.428325\n",
      "(Iteration 91 / 200) loss: 0.337185\n",
      "(Iteration 101 / 200) loss: 0.286001\n",
      "(Iteration 111 / 200) loss: 0.112567\n",
      "(Iteration 121 / 200) loss: 0.112002\n",
      "(Iteration 131 / 200) loss: 0.073450\n",
      "(Iteration 141 / 200) loss: 0.076109\n",
      "(Iteration 151 / 200) loss: 0.078784\n",
      "(Iteration 161 / 200) loss: 0.042140\n",
      "(Iteration 171 / 200) loss: 0.029377\n",
      "(Iteration 181 / 200) loss: 0.028470\n",
      "(Iteration 191 / 200) loss: 0.025966\n"
     ]
    },
    {
     "data": {
      "image/png": "[encoded data removed]",
      "text/plain": [
       "<Figure size 1000x800 with 1 Axes>"
      ]
     },
     "metadata": {},
     "output_type": "display_data"
    }
   ],
   "source": [
    "torch.manual_seed(231)\n",
    "np.random.seed(231)\n",
    "\n",
    "data = load_coco_data(max_train=50)\n",
    "\n",
    "transformer = CaptioningTransformer(\n",
    "          word_to_idx=data['word_to_idx'],\n",
    "          input_dim=data['train_features'].shape[1],\n",
    "          wordvec_dim=256,\n",
    "          num_heads=2,\n",
    "          num_layers=2,\n",
    "          max_length=30\n",
    "        )\n",
    "\n",
    "\n",
    "transformer_solver = CaptioningSolverTransformer(transformer, data, idx_to_word=data['idx_to_word'],\n",
    "           num_epochs=100,\n",
    "           batch_size=25,\n",
    "           learning_rate=0.001,\n",
    "           verbose=True, print_every=10,\n",
    "         )\n",
    "\n",
    "transformer_solver.train()\n",
    "\n",
    "# Plot the training losses.\n",
    "plt.plot(transformer_solver.loss_history)\n",
    "plt.xlabel('Iteration')\n",
    "plt.ylabel('Loss')\n",
    "plt.title('Training loss history')\n",
    "plt.show()"
   ]
  },
  {
   "cell_type": "markdown",
   "id": "78f6723e",
   "metadata": {
    "id": "EcRNyolJ7qyw"
   },
   "source": [
    "Print final training loss. You should see a final loss of less than 0.03."
   ]
  },
  {
   "cell_type": "code",
   "execution_count": 59,
   "id": "41a76365",
   "metadata": {
    "id": "JPU95Nv27qyx",
    "tags": [],
    "test": "transformer_final_training_loss"
   },
   "outputs": [
    {
     "name": "stdout",
     "output_type": "stream",
     "text": [
      "Final loss:  0.017271146\n"
     ]
    }
   ],
   "source": [
    "print('Final loss: ', transformer_solver.loss_history[-1])"
   ]
  },
  {
   "cell_type": "markdown",
   "id": "8f2fab85",
   "metadata": {
    "id": "7R-SUFxf7qyx"
   },
   "source": [
    "# Transformer Sampling at Test Time\n",
    "The sampling code has been written for you. You can simply run the following to compare with the previous results with the RNN. As before the training results should be much better than the validation set results, given how little data we trained on."
   ]
  },
  {
   "cell_type": "code",
   "execution_count": 61,
   "id": "7a249318",
   "metadata": {
    "id": "K4uQMkIC7qyy",
    "tags": []
   },
   "outputs": [
    {
     "name": "stdout",
     "output_type": "stream",
     "text": [
      "http://farm6.staticflickr.com/5262/5593189483_a1c6a9a0ca_z.jpg\n"
     ]
    },
    {
     "data": {
      "image/png": "[encoded data removed]",
      "text/plain": [
       "<Figure size 500x50 with 1 Axes>"
      ]
     },
     "metadata": {},
     "output_type": "display_data"
    },
    {
     "name": "stdout",
     "output_type": "stream",
     "text": [
      "http://farm9.staticflickr.com/8192/8079968070_86f48db22d_z.jpg\n"
     ]
    },
    {
     "data": {
      "image/png": "[encoded data removed]",
      "text/plain": [
       "<Figure size 500x50 with 1 Axes>"
      ]
     },
     "metadata": {},
     "output_type": "display_data"
    },
    {
     "name": "stdout",
     "output_type": "stream",
     "text": [
      "http://farm1.staticflickr.com/83/241537113_6c6171a1ec_z.jpg\n"
     ]
    },
    {
     "data": {
      "image/png": "[encoded data removed]",
      "text/plain": [
       "<Figure size 500x50 with 1 Axes>"
      ]
     },
     "metadata": {},
     "output_type": "display_data"
    },
    {
     "name": "stdout",
     "output_type": "stream",
     "text": [
      "http://farm7.staticflickr.com/6038/6364580705_12de27ab54_z.jpg\n"
     ]
    },
    {
     "data": {
      "image/png": "[encoded data removed]",
      "text/plain": [
       "<Figure size 500x50 with 1 Axes>"
      ]
     },
     "metadata": {},
     "output_type": "display_data"
    }
   ],
   "source": [
    "# If you get an error, the URL just no longer exists, so don't worry!\n",
    "# You can re-sample as many times as you want.\n",
    "for split in ['train', 'val']:\n",
    "    minibatch = sample_coco_minibatch(data, split=split, batch_size=2)\n",
    "    gt_captions, features, urls = minibatch\n",
    "    gt_captions = decode_captions(gt_captions, data['idx_to_word'])\n",
    "\n",
    "    sample_captions = transformer.sample(features, max_length=30)\n",
    "    sample_captions = decode_captions(sample_captions, data['idx_to_word'])\n",
    "\n",
    "    for gt_caption, sample_caption, url in zip(gt_captions, sample_captions, urls):\n",
    "        print(url)\n",
    "        \n",
    "        plt.figure(figsize=(5, 0.5))\n",
    "        plt.axis('off')\n",
    "        # Skip missing URLs.\n",
    "                   \n",
    "        plt.title('%s\\n%s\\nGT:%s' % (split, sample_caption, gt_caption))\n",
    "        plt.axis('off')\n",
    "        plt.show()"
   ]
  },
  {
   "cell_type": "code",
   "execution_count": null,
   "id": "fdfd8db3",
   "metadata": {
    "id": "dRiRu3pN7qyz"
   },
   "outputs": [],
   "source": []
  }
 ],
 "metadata": {
  "kernelspec": {
   "display_name": "py37pytorch",
   "language": "python",
   "name": "python3"
  },
  "language_info": {
   "codemirror_mode": {
    "name": "ipython",
    "version": 3
   },
   "file_extension": ".py",
   "mimetype": "text/x-python",
   "name": "python",
   "nbconvert_exporter": "python",
   "pygments_lexer": "ipython3",
   "version": "3.7.0"
  }
 },
 "nbformat": 4,
 "nbformat_minor": 5
}
