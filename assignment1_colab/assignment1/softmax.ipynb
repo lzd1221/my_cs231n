{
 "cells": [
  {
   "cell_type": "markdown",
   "id": "26fdca1c",
   "metadata": {
    "tags": [
     "pdf-title"
    ]
   },
   "source": [
    "# Softmax exercise\n",
    "\n",
    "*Complete and hand in this completed worksheet (including its outputs and any supporting code outside of the worksheet) with your assignment submission. For more details see the [assignments page](http://vision.stanford.edu/teaching/cs231n/assignments.html) on the course website.*\n",
    "\n",
    "This exercise is analogous to the SVM exercise. You will:\n",
    "\n",
    "- implement a fully-vectorized **loss function** for the Softmax classifier\n",
    "- implement the fully-vectorized expression for its **analytic gradient**\n",
    "- **check your implementation** with numerical gradient\n",
    "- use a validation set to **tune the learning rate and regularization** strength\n",
    "- **optimize** the loss function with **SGD**\n",
    "- **visualize** the final learned weights\n"
   ]
  },
  {
   "cell_type": "code",
   "execution_count": 1,
   "id": "1f12280f",
   "metadata": {
    "tags": [
     "pdf-ignore"
    ]
   },
   "outputs": [],
   "source": [
    "import random\n",
    "import numpy as np\n",
    "from cs231n.data_utils import load_CIFAR10\n",
    "import matplotlib.pyplot as plt\n",
    "\n",
    "%matplotlib inline\n",
    "plt.rcParams['figure.figsize'] = (10.0, 8.0) # set default size of plots\n",
    "plt.rcParams['image.interpolation'] = 'nearest'\n",
    "plt.rcParams['image.cmap'] = 'gray'\n",
    "\n",
    "# for auto-reloading extenrnal modules\n",
    "# see http://stackoverflow.com/questions/1907993/autoreload-of-modules-in-ipython\n",
    "%load_ext autoreload\n",
    "%autoreload 2"
   ]
  },
  {
   "cell_type": "code",
   "execution_count": 2,
   "id": "ab106c82",
   "metadata": {
    "tags": [
     "pdf-ignore"
    ]
   },
   "outputs": [
    {
     "name": "stdout",
     "output_type": "stream",
     "text": [
      "Train data shape:  (49000, 3073)\n",
      "Train labels shape:  (49000,)\n",
      "Validation data shape:  (1000, 3073)\n",
      "Validation labels shape:  (1000,)\n",
      "Test data shape:  (1000, 3073)\n",
      "Test labels shape:  (1000,)\n",
      "dev data shape:  (500, 3073)\n",
      "dev labels shape:  (500,)\n"
     ]
    }
   ],
   "source": [
    "def get_CIFAR10_data(num_training=49000, num_validation=1000, num_test=1000, num_dev=500):\n",
    "    \"\"\"\n",
    "    Load the CIFAR-10 dataset from disk and perform preprocessing to prepare\n",
    "    it for the linear classifier. These are the same steps as we used for the\n",
    "    SVM, but condensed to a single function.  \n",
    "    \"\"\"\n",
    "    # Load the raw CIFAR-10 data\n",
    "    cifar10_dir = 'cs231n/datasets/cifar-10-batches-py'\n",
    "    \n",
    "    # Cleaning up variables to prevent loading data multiple times (which may cause memory issue)\n",
    "    try:\n",
    "       del X_train, y_train\n",
    "       del X_test, y_test\n",
    "       print('Clear previously loaded data.')\n",
    "    except:\n",
    "       pass\n",
    "\n",
    "    X_train, y_train, X_test, y_test = load_CIFAR10(cifar10_dir)\n",
    "    \n",
    "    # subsample the data\n",
    "    mask = list(range(num_training, num_training + num_validation))\n",
    "    X_val = X_train[mask]\n",
    "    y_val = y_train[mask]\n",
    "    mask = list(range(num_training))\n",
    "    X_train = X_train[mask]\n",
    "    y_train = y_train[mask]\n",
    "    mask = list(range(num_test))\n",
    "    X_test = X_test[mask]\n",
    "    y_test = y_test[mask]\n",
    "    mask = np.random.choice(num_training, num_dev, replace=False)\n",
    "    X_dev = X_train[mask]\n",
    "    y_dev = y_train[mask]\n",
    "    \n",
    "    # Preprocessing: reshape the image data into rows\n",
    "    X_train = np.reshape(X_train, (X_train.shape[0], -1))\n",
    "    X_val = np.reshape(X_val, (X_val.shape[0], -1))\n",
    "    X_test = np.reshape(X_test, (X_test.shape[0], -1))\n",
    "    X_dev = np.reshape(X_dev, (X_dev.shape[0], -1))\n",
    "    \n",
    "    # Normalize the data: subtract the mean image\n",
    "    mean_image = np.mean(X_train, axis = 0)\n",
    "    X_train -= mean_image\n",
    "    X_val -= mean_image\n",
    "    X_test -= mean_image\n",
    "    X_dev -= mean_image\n",
    "    \n",
    "    # add bias dimension and transform into columns\n",
    "    X_train = np.hstack([X_train, np.ones((X_train.shape[0], 1))])\n",
    "    X_val = np.hstack([X_val, np.ones((X_val.shape[0], 1))])\n",
    "    X_test = np.hstack([X_test, np.ones((X_test.shape[0], 1))])\n",
    "    X_dev = np.hstack([X_dev, np.ones((X_dev.shape[0], 1))])\n",
    "    \n",
    "    return X_train, y_train, X_val, y_val, X_test, y_test, X_dev, y_dev\n",
    "\n",
    "\n",
    "# Invoke the above function to get our data.\n",
    "X_train, y_train, X_val, y_val, X_test, y_test, X_dev, y_dev = get_CIFAR10_data()\n",
    "print('Train data shape: ', X_train.shape)\n",
    "print('Train labels shape: ', y_train.shape)\n",
    "print('Validation data shape: ', X_val.shape)\n",
    "print('Validation labels shape: ', y_val.shape)\n",
    "print('Test data shape: ', X_test.shape)\n",
    "print('Test labels shape: ', y_test.shape)\n",
    "print('dev data shape: ', X_dev.shape)\n",
    "print('dev labels shape: ', y_dev.shape)"
   ]
  },
  {
   "cell_type": "markdown",
   "id": "4721c3cb",
   "metadata": {},
   "source": [
    "## Softmax Classifier\n",
    "\n",
    "Your code for this section will all be written inside `cs231n/classifiers/softmax.py`.\n"
   ]
  },
  {
   "cell_type": "code",
   "execution_count": 3,
   "id": "d42765cd",
   "metadata": {},
   "outputs": [
    {
     "name": "stdout",
     "output_type": "stream",
     "text": [
      "loss: 0.004483\n",
      "sanity check: 2.302585\n"
     ]
    }
   ],
   "source": [
    "# First implement the naive softmax loss function with nested loops.\n",
    "# Open the file cs231n/classifiers/softmax.py and implement the\n",
    "# softmax_loss_naive function.\n",
    "\n",
    "from cs231n.classifiers.softmax import softmax_loss_naive\n",
    "import time\n",
    "\n",
    "# Generate a random softmax weight matrix and use it to compute the loss.\n",
    "W = np.random.randn(3073, 10) * 0.0001\n",
    "loss, grad = softmax_loss_naive(W, X_dev, y_dev, 0.0)\n",
    "\n",
    "# As a rough sanity check, our loss should be something close to -log(0.1).\n",
    "print('loss: %f' % loss)\n",
    "print('sanity check: %f' % (-np.log(0.1)))"
   ]
  },
  {
   "cell_type": "markdown",
   "id": "6f88764e",
   "metadata": {
    "tags": [
     "pdf-inline"
    ]
   },
   "source": [
    "**Inline Question 1**\n",
    "\n",
    "Why do we expect our loss to be close to -log(0.1)? Explain briefly.**\n",
    "\n",
    "$\\color{blue}{\\textit Your Answer:}$ 因为有十类，故希望是这样。\n",
    "\n"
   ]
  },
  {
   "cell_type": "code",
   "execution_count": 4,
   "id": "4c2626ef",
   "metadata": {},
   "outputs": [
    {
     "name": "stdout",
     "output_type": "stream",
     "text": [
      "numerical: 0.000875 analytic: -1.614351, relative error: 1.000000e+00\n",
      "numerical: -0.003396 analytic: -1.499889, relative error: 9.954823e-01\n",
      "numerical: 0.000589 analytic: -1.313481, relative error: 1.000000e+00\n",
      "numerical: -0.004274 analytic: -0.793435, relative error: 9.892833e-01\n",
      "numerical: 0.125470 analytic: 0.072885, relative error: 2.651093e-01\n",
      "numerical: 0.003864 analytic: 2.322296, relative error: 9.966779e-01\n",
      "numerical: -0.005998 analytic: -2.019110, relative error: 9.940766e-01\n",
      "numerical: -0.004165 analytic: -1.166075, relative error: 9.928823e-01\n",
      "numerical: 0.005688 analytic: 1.125802, relative error: 9.899457e-01\n",
      "numerical: 0.002918 analytic: 0.133419, relative error: 9.571980e-01\n",
      "numerical: -0.004693 analytic: 2.758945, relative error: 1.000000e+00\n",
      "numerical: -0.015415 analytic: 0.431797, relative error: 1.000000e+00\n",
      "numerical: 0.005380 analytic: 0.907567, relative error: 9.882129e-01\n",
      "numerical: -0.005915 analytic: -0.773828, relative error: 9.848283e-01\n",
      "numerical: -0.002463 analytic: -0.835222, relative error: 9.941201e-01\n",
      "numerical: -0.007014 analytic: 0.518649, relative error: 1.000000e+00\n",
      "numerical: 0.005879 analytic: -1.056638, relative error: 1.000000e+00\n",
      "numerical: 0.010872 analytic: 1.176951, relative error: 9.816938e-01\n",
      "numerical: 0.004018 analytic: 0.136911, relative error: 9.429825e-01\n",
      "numerical: -0.055126 analytic: 2.443313, relative error: 1.000000e+00\n"
     ]
    }
   ],
   "source": [
    "# Complete the implementation of softmax_loss_naive and implement a (naive)\n",
    "# version of the gradient that uses nested loops.\n",
    "loss, grad = softmax_loss_naive(W, X_dev, y_dev, 0.0)\n",
    "\n",
    "# As we did for the SVM, use numeric gradient checking as a debugging tool.\n",
    "# The numeric gradient should be close to the analytic gradient.\n",
    "from cs231n.gradient_check import grad_check_sparse\n",
    "f = lambda w: softmax_loss_naive(w, X_dev, y_dev, 0.0)[0]\n",
    "grad_numerical = grad_check_sparse(f, W, grad, 10)\n",
    "\n",
    "# similar to SVM case, do another gradient check with regularization\n",
    "loss, grad = softmax_loss_naive(W, X_dev, y_dev, 5e1)\n",
    "f = lambda w: softmax_loss_naive(w, X_dev, y_dev, 5e1)[0]\n",
    "grad_numerical = grad_check_sparse(f, W, grad, 10)"
   ]
  },
  {
   "cell_type": "code",
   "execution_count": 5,
   "id": "434e757f",
   "metadata": {},
   "outputs": [
    {
     "name": "stdout",
     "output_type": "stream",
     "text": [
      "naive loss: 4.482887e-03 computed in 0.109907s\n",
      "vectorized loss: 2.405948e+00 computed in 0.015984s\n",
      "Loss difference: 2.401465\n",
      "Gradient difference: 0.000000\n"
     ]
    }
   ],
   "source": [
    "# Now that we have a naive implementation of the softmax loss function and its gradient,\n",
    "# implement a vectorized version in softmax_loss_vectorized.\n",
    "# The two versions should compute the same results, but the vectorized version should be\n",
    "# much faster.\n",
    "tic = time.time()\n",
    "loss_naive, grad_naive = softmax_loss_naive(W, X_dev, y_dev, 0.000005)\n",
    "toc = time.time()\n",
    "print('naive loss: %e computed in %fs' % (loss_naive, toc - tic))\n",
    "\n",
    "from cs231n.classifiers.softmax import softmax_loss_vectorized\n",
    "tic = time.time()\n",
    "loss_vectorized, grad_vectorized = softmax_loss_vectorized(W, X_dev, y_dev, 0.000005)\n",
    "toc = time.time()\n",
    "print('vectorized loss: %e computed in %fs' % (loss_vectorized, toc - tic))\n",
    "\n",
    "# As we did for the SVM, we use the Frobenius norm to compare the two versions\n",
    "# of the gradient.\n",
    "grad_difference = np.linalg.norm(grad_naive - grad_vectorized, ord='fro')\n",
    "print('Loss difference: %f' % np.abs(loss_naive - loss_vectorized))\n",
    "print('Gradient difference: %f' % grad_difference)"
   ]
  },
  {
   "cell_type": "code",
   "execution_count": 6,
   "id": "2e5e374d",
   "metadata": {
    "tags": [
     "code"
    ],
    "test": "tuning"
   },
   "outputs": [
    {
     "name": "stdout",
     "output_type": "stream",
     "text": [
      "iteration 0 / 5000: loss 386.675632\n",
      "iteration 100 / 5000: loss 233.871781\n",
      "iteration 200 / 5000: loss 142.075840\n",
      "iteration 300 / 5000: loss 86.563878\n",
      "iteration 400 / 5000: loss 53.256531\n",
      "iteration 500 / 5000: loss 33.048014\n",
      "iteration 600 / 5000: loss 20.771209\n",
      "iteration 700 / 5000: loss 13.280727\n",
      "iteration 800 / 5000: loss 8.881752\n",
      "iteration 900 / 5000: loss 6.196785\n",
      "iteration 1000 / 5000: loss 4.495313\n",
      "iteration 1100 / 5000: loss 3.508058\n",
      "iteration 1200 / 5000: loss 2.955867\n",
      "iteration 1300 / 5000: loss 2.594525\n",
      "iteration 1400 / 5000: loss 2.318899\n",
      "iteration 1500 / 5000: loss 2.227826\n",
      "iteration 1600 / 5000: loss 2.096688\n",
      "iteration 1700 / 5000: loss 2.061964\n",
      "iteration 1800 / 5000: loss 2.090637\n",
      "iteration 1900 / 5000: loss 2.020561\n",
      "iteration 2000 / 5000: loss 2.020596\n",
      "iteration 2100 / 5000: loss 2.002550\n",
      "iteration 2200 / 5000: loss 2.021749\n",
      "iteration 2300 / 5000: loss 2.009183\n",
      "iteration 2400 / 5000: loss 2.037821\n",
      "iteration 2500 / 5000: loss 1.972205\n",
      "iteration 2600 / 5000: loss 1.975654\n",
      "iteration 2700 / 5000: loss 2.019615\n",
      "iteration 2800 / 5000: loss 1.931202\n",
      "iteration 2900 / 5000: loss 1.972936\n",
      "iteration 3000 / 5000: loss 2.011554\n",
      "iteration 3100 / 5000: loss 2.053824\n",
      "iteration 3200 / 5000: loss 2.034655\n",
      "iteration 3300 / 5000: loss 2.120818\n",
      "iteration 3400 / 5000: loss 2.021692\n",
      "iteration 3500 / 5000: loss 2.005171\n",
      "iteration 3600 / 5000: loss 1.998512\n",
      "iteration 3700 / 5000: loss 2.034005\n",
      "iteration 3800 / 5000: loss 2.017757\n",
      "iteration 3900 / 5000: loss 1.961178\n",
      "iteration 4000 / 5000: loss 2.031054\n",
      "iteration 4100 / 5000: loss 1.936902\n",
      "iteration 4200 / 5000: loss 1.978637\n",
      "iteration 4300 / 5000: loss 2.009753\n",
      "iteration 4400 / 5000: loss 1.982372\n",
      "iteration 4500 / 5000: loss 2.013451\n",
      "iteration 4600 / 5000: loss 2.025754\n",
      "iteration 4700 / 5000: loss 2.088247\n",
      "iteration 4800 / 5000: loss 2.087602\n",
      "iteration 4900 / 5000: loss 2.093709\n",
      "iteration 0 / 5000: loss 783.026675\n",
      "iteration 100 / 5000: loss 287.216818\n",
      "iteration 200 / 5000: loss 106.295383\n",
      "iteration 300 / 5000: loss 40.249476\n",
      "iteration 400 / 5000: loss 16.024859\n",
      "iteration 500 / 5000: loss 7.307827\n",
      "iteration 600 / 5000: loss 3.952007\n",
      "iteration 700 / 5000: loss 2.762030\n",
      "iteration 800 / 5000: loss 2.341857\n",
      "iteration 900 / 5000: loss 2.183971\n",
      "iteration 1000 / 5000: loss 2.157895\n",
      "iteration 1100 / 5000: loss 2.102029\n",
      "iteration 1200 / 5000: loss 2.126423\n",
      "iteration 1300 / 5000: loss 2.058106\n",
      "iteration 1400 / 5000: loss 2.138886\n",
      "iteration 1500 / 5000: loss 2.046740\n",
      "iteration 1600 / 5000: loss 2.099001\n",
      "iteration 1700 / 5000: loss 2.087623\n",
      "iteration 1800 / 5000: loss 2.033213\n",
      "iteration 1900 / 5000: loss 2.088626\n",
      "iteration 2000 / 5000: loss 2.051810\n",
      "iteration 2100 / 5000: loss 2.115206\n",
      "iteration 2200 / 5000: loss 2.072422\n",
      "iteration 2300 / 5000: loss 2.059780\n",
      "iteration 2400 / 5000: loss 2.093566\n",
      "iteration 2500 / 5000: loss 2.090513\n",
      "iteration 2600 / 5000: loss 2.134018\n",
      "iteration 2700 / 5000: loss 2.141569\n",
      "iteration 2800 / 5000: loss 2.089928\n",
      "iteration 2900 / 5000: loss 2.112056\n",
      "iteration 3000 / 5000: loss 2.111589\n",
      "iteration 3100 / 5000: loss 2.090037\n",
      "iteration 3200 / 5000: loss 2.061105\n",
      "iteration 3300 / 5000: loss 2.084012\n",
      "iteration 3400 / 5000: loss 2.108540\n",
      "iteration 3500 / 5000: loss 2.113616\n",
      "iteration 3600 / 5000: loss 2.055116\n",
      "iteration 3700 / 5000: loss 2.045083\n",
      "iteration 3800 / 5000: loss 2.010830\n",
      "iteration 3900 / 5000: loss 2.083828\n",
      "iteration 4000 / 5000: loss 2.118948\n",
      "iteration 4100 / 5000: loss 2.097747\n",
      "iteration 4200 / 5000: loss 2.184439\n",
      "iteration 4300 / 5000: loss 2.076535\n",
      "iteration 4400 / 5000: loss 2.078136\n",
      "iteration 4500 / 5000: loss 2.097164\n",
      "iteration 4600 / 5000: loss 2.093829\n",
      "iteration 4700 / 5000: loss 2.071220\n",
      "iteration 4800 / 5000: loss 2.027506\n",
      "iteration 4900 / 5000: loss 2.101416\n",
      "iteration 0 / 5000: loss 387.668801\n",
      "iteration 100 / 5000: loss 32.657631\n",
      "iteration 200 / 5000: loss 4.454339\n",
      "iteration 300 / 5000: loss 2.268007\n",
      "iteration 400 / 5000: loss 2.053443\n",
      "iteration 500 / 5000: loss 2.042149\n",
      "iteration 600 / 5000: loss 2.007025\n",
      "iteration 700 / 5000: loss 2.006204\n",
      "iteration 800 / 5000: loss 2.007958\n",
      "iteration 900 / 5000: loss 2.046487\n",
      "iteration 1000 / 5000: loss 2.057565\n",
      "iteration 1100 / 5000: loss 1.972436\n",
      "iteration 1200 / 5000: loss 2.044896\n",
      "iteration 1300 / 5000: loss 1.983347\n",
      "iteration 1400 / 5000: loss 2.019834\n",
      "iteration 1500 / 5000: loss 2.045390\n",
      "iteration 1600 / 5000: loss 2.023112\n",
      "iteration 1700 / 5000: loss 2.045669\n",
      "iteration 1800 / 5000: loss 2.119308\n",
      "iteration 1900 / 5000: loss 1.995738\n",
      "iteration 2000 / 5000: loss 1.964401\n",
      "iteration 2100 / 5000: loss 2.071203\n",
      "iteration 2200 / 5000: loss 2.017572\n",
      "iteration 2300 / 5000: loss 2.046162\n",
      "iteration 2400 / 5000: loss 2.054569\n",
      "iteration 2500 / 5000: loss 2.020720\n",
      "iteration 2600 / 5000: loss 1.970431\n",
      "iteration 2700 / 5000: loss 2.101954\n",
      "iteration 2800 / 5000: loss 2.010308\n",
      "iteration 2900 / 5000: loss 2.029905\n",
      "iteration 3000 / 5000: loss 1.983213\n",
      "iteration 3100 / 5000: loss 2.061065\n",
      "iteration 3200 / 5000: loss 2.055124\n",
      "iteration 3300 / 5000: loss 1.986515\n",
      "iteration 3400 / 5000: loss 2.032874\n",
      "iteration 3500 / 5000: loss 2.047709\n",
      "iteration 3600 / 5000: loss 2.025460\n",
      "iteration 3700 / 5000: loss 2.029705\n",
      "iteration 3800 / 5000: loss 2.053070\n",
      "iteration 3900 / 5000: loss 2.027963\n",
      "iteration 4000 / 5000: loss 2.010014\n",
      "iteration 4100 / 5000: loss 2.017637\n",
      "iteration 4200 / 5000: loss 1.998856\n",
      "iteration 4300 / 5000: loss 2.014497\n",
      "iteration 4400 / 5000: loss 2.047980\n",
      "iteration 4500 / 5000: loss 2.010238\n",
      "iteration 4600 / 5000: loss 1.933014\n",
      "iteration 4700 / 5000: loss 2.036636\n",
      "iteration 4800 / 5000: loss 2.016973\n",
      "iteration 4900 / 5000: loss 2.022860\n",
      "iteration 0 / 5000: loss 779.033525\n",
      "iteration 100 / 5000: loss 6.896985\n",
      "iteration 200 / 5000: loss 2.140538\n",
      "iteration 300 / 5000: loss 2.134487\n",
      "iteration 400 / 5000: loss 2.098010\n",
      "iteration 500 / 5000: loss 2.089010\n",
      "iteration 600 / 5000: loss 2.071186\n",
      "iteration 700 / 5000: loss 2.032940\n",
      "iteration 800 / 5000: loss 2.133040\n",
      "iteration 900 / 5000: loss 2.126805\n",
      "iteration 1000 / 5000: loss 2.111792\n",
      "iteration 1100 / 5000: loss 2.082634\n",
      "iteration 1200 / 5000: loss 2.144381\n",
      "iteration 1300 / 5000: loss 2.081632\n",
      "iteration 1400 / 5000: loss 2.098980\n",
      "iteration 1500 / 5000: loss 2.047797\n",
      "iteration 1600 / 5000: loss 2.155257\n",
      "iteration 1700 / 5000: loss 2.124942\n",
      "iteration 1800 / 5000: loss 2.047922\n",
      "iteration 1900 / 5000: loss 2.077282\n",
      "iteration 2000 / 5000: loss 2.080440\n",
      "iteration 2100 / 5000: loss 2.033966\n",
      "iteration 2200 / 5000: loss 2.085944\n",
      "iteration 2300 / 5000: loss 2.094639\n",
      "iteration 2400 / 5000: loss 2.125361\n",
      "iteration 2500 / 5000: loss 2.108006\n",
      "iteration 2600 / 5000: loss 2.143436\n",
      "iteration 2700 / 5000: loss 2.004394\n",
      "iteration 2800 / 5000: loss 2.077235\n",
      "iteration 2900 / 5000: loss 2.058898\n",
      "iteration 3000 / 5000: loss 2.113138\n",
      "iteration 3100 / 5000: loss 2.106933\n",
      "iteration 3200 / 5000: loss 2.059546\n",
      "iteration 3300 / 5000: loss 2.041364\n",
      "iteration 3400 / 5000: loss 2.099121\n",
      "iteration 3500 / 5000: loss 2.129490\n",
      "iteration 3600 / 5000: loss 2.078327\n",
      "iteration 3700 / 5000: loss 2.060059\n",
      "iteration 3800 / 5000: loss 2.137607\n",
      "iteration 3900 / 5000: loss 2.146569\n",
      "iteration 4000 / 5000: loss 2.134443\n",
      "iteration 4100 / 5000: loss 2.158800\n",
      "iteration 4200 / 5000: loss 2.084818\n",
      "iteration 4300 / 5000: loss 2.087776\n",
      "iteration 4400 / 5000: loss 2.016667\n",
      "iteration 4500 / 5000: loss 2.137506\n",
      "iteration 4600 / 5000: loss 2.068002\n",
      "iteration 4700 / 5000: loss 2.134024\n",
      "iteration 4800 / 5000: loss 2.103421\n",
      "iteration 4900 / 5000: loss 2.116301\n",
      "lr 1.000000e-07 reg 2.500000e+04 train accuracy: 0.351286 val accuracy: 0.354000\n",
      "lr 1.000000e-07 reg 5.000000e+04 train accuracy: 0.328327 val accuracy: 0.330000\n",
      "lr 5.000000e-07 reg 2.500000e+04 train accuracy: 0.346388 val accuracy: 0.360000\n",
      "lr 5.000000e-07 reg 5.000000e+04 train accuracy: 0.310571 val accuracy: 0.324000\n",
      "best validation accuracy achieved during cross-validation: 0.360000\n"
     ]
    }
   ],
   "source": [
    "# Use the validation set to tune hyperparameters (regularization strength and\n",
    "# learning rate). You should experiment with different ranges for the learning\n",
    "# rates and regularization strengths; if you are careful you should be able to\n",
    "# get a classification accuracy of over 0.35 on the validation set.\n",
    "\n",
    "from cs231n.classifiers import Softmax\n",
    "results = {}\n",
    "best_val = -1\n",
    "best_softmax = None\n",
    "\n",
    "################################################################################\n",
    "# TODO:                                                                        #\n",
    "# Use the validation set to set the learning rate and regularization strength. #\n",
    "# This should be identical to the validation that you did for the SVM; save    #\n",
    "# the best trained softmax classifer in best_softmax.                          #\n",
    "################################################################################\n",
    "\n",
    "# Provided as a reference. You may or may not want to change these hyperparameters\n",
    "learning_rates = [1e-7, 5e-7]\n",
    "regularization_strengths = [2.5e4, 5e4]\n",
    "\n",
    "# *****START OF YOUR CODE (DO NOT DELETE/MODIFY THIS LINE)*****\n",
    "\n",
    "for rate in learning_rates:\n",
    "    for reg in regularization_strengths:\n",
    "        model = Softmax()\n",
    "        model_hist = model.train(X_train, y_train, learning_rate=rate, reg=reg, num_iters=5000, verbose=True)\n",
    "        y_train_pred = model.predict(X_train)\n",
    "        acc_tr = np.mean(y_train_pred == y_train)\n",
    "        y_val_pred = model.predict(X_val)\n",
    "        acc_val = np.mean(y_val == y_val_pred)\n",
    "        \n",
    "        results[(rate, reg)] = (acc_tr, acc_val)\n",
    "        if acc_val > best_val:\n",
    "            best_val = acc_val\n",
    "            best_softmax = model\n",
    "# *****END OF YOUR CODE (DO NOT DELETE/MODIFY THIS LINE)*****\n",
    "    \n",
    "# Print out results.\n",
    "for lr, reg in sorted(results):\n",
    "    train_accuracy, val_accuracy = results[(lr, reg)]\n",
    "    print('lr %e reg %e train accuracy: %f val accuracy: %f' % (\n",
    "                lr, reg, train_accuracy, val_accuracy))\n",
    "    \n",
    "print('best validation accuracy achieved during cross-validation: %f' % best_val)"
   ]
  },
  {
   "cell_type": "code",
   "execution_count": 7,
   "id": "deb37cc6",
   "metadata": {
    "test": "test"
   },
   "outputs": [
    {
     "name": "stdout",
     "output_type": "stream",
     "text": [
      "softmax on raw pixels final test set accuracy: 0.364000\n"
     ]
    }
   ],
   "source": [
    "# evaluate on test set\n",
    "# Evaluate the best softmax on test set\n",
    "y_test_pred = best_softmax.predict(X_test)\n",
    "test_accuracy = np.mean(y_test == y_test_pred)\n",
    "print('softmax on raw pixels final test set accuracy: %f' % (test_accuracy, ))"
   ]
  },
  {
   "cell_type": "markdown",
   "id": "df501314",
   "metadata": {
    "tags": [
     "pdf-inline"
    ]
   },
   "source": [
    "**Inline Question 2** - *True or False*\n",
    "\n",
    "Suppose the overall training loss is defined as the sum of the per-datapoint loss over all training examples. It is possible to add a new datapoint to a training set that would leave the SVM loss unchanged, but this is not the case with the Softmax classifier loss.\n",
    "\n",
    "$\\color{blue}{\\textit Your Answer:}$ True\n",
    "\n",
    "\n",
    "$\\color{blue}{\\textit Your Explanation:}$ 因为对于max来说加一个点也只是取max（svm）故无影响，但是softmax loss总会先得到一个概率分布，这样的话就会增加一点loss。\n",
    "\n"
   ]
  },
  {
   "cell_type": "code",
   "execution_count": 8,
   "id": "ade33adc",
   "metadata": {},
   "outputs": [
    {
     "data": {
      "image/png": "[encoded data removed]",
      "text/plain": [
       "<Figure size 720x576 with 10 Axes>"
      ]
     },
     "metadata": {
      "needs_background": "light"
     },
     "output_type": "display_data"
    }
   ],
   "source": [
    "# Visualize the learned weights for each class\n",
    "w = best_softmax.W[:-1,:] # strip out the bias\n",
    "w = w.reshape(32, 32, 3, 10)\n",
    "\n",
    "w_min, w_max = np.min(w), np.max(w)\n",
    "\n",
    "classes = ['plane', 'car', 'bird', 'cat', 'deer', 'dog', 'frog', 'horse', 'ship', 'truck']\n",
    "for i in range(10):\n",
    "    plt.subplot(2, 5, i + 1)\n",
    "    \n",
    "    # Rescale the weights to be between 0 and 255\n",
    "    wimg = 255.0 * (w[:, :, :, i].squeeze() - w_min) / (w_max - w_min)\n",
    "    plt.imshow(wimg.astype('uint8'))\n",
    "    plt.axis('off')\n",
    "    plt.title(classes[i])"
   ]
  },
  {
   "cell_type": "code",
   "execution_count": null,
   "id": "4d5d17f8",
   "metadata": {},
   "outputs": [],
   "source": []
  }
 ],
 "metadata": {
  "kernelspec": {
   "display_name": "python27",
   "language": "python",
   "name": "python27"
  },
  "language_info": {
   "codemirror_mode": {
    "name": "ipython",
    "version": 3
   },
   "file_extension": ".py",
   "mimetype": "text/x-python",
   "name": "python",
   "nbconvert_exporter": "python",
   "pygments_lexer": "ipython3",
   "version": "3.9.12"
  }
 },
 "nbformat": 4,
 "nbformat_minor": 5
}
