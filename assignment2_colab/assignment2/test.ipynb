{
 "cells": [
  {
   "cell_type": "code",
   "execution_count": 9,
   "metadata": {},
   "outputs": [
    {
     "name": "stdout",
     "output_type": "stream",
     "text": [
      "(5, 5)\n",
      "[[11.41901708  8.98038847  9.9136511  10.47491492 10.20423993]\n",
      " [ 8.44653628  9.3392423  10.19361921  8.9991123   8.33010574]\n",
      " [ 7.92098558  9.95857388 10.24878909 10.77963452 11.06022581]\n",
      " [ 9.2638739   8.6868619   8.5622497   9.88305087  9.41465553]\n",
      " [ 9.23858635 10.3285053   9.5785747  10.19387549  9.48403036]]\n"
     ]
    }
   ],
   "source": [
    "import numpy as np\n",
    "x = np.random.randn(5, 5) + 10\n",
    "print(x.shape)\n",
    "print(x)"
   ]
  },
  {
   "cell_type": "code",
   "execution_count": 10,
   "metadata": {},
   "outputs": [
    {
     "name": "stdout",
     "output_type": "stream",
     "text": [
      "[[0.65059186 0.20306567 0.52650442 0.49173079 0.47966827]\n",
      " [0.85447973 0.21357461 0.59206344 0.25280663 0.43612172]\n",
      " [0.259983   0.47850925 0.37150236 0.06047511 0.03109046]\n",
      " [0.36793396 0.35935672 0.19852339 0.7826409  0.77569022]\n",
      " [0.65071244 0.49320023 0.6593232  0.2999735  0.98413339]]\n",
      "[[False  True  True False False]\n",
      " [ True  True  True False False]\n",
      " [False False False  True  True]\n",
      " [ True  True  True False  True]\n",
      " [False False False  True False]]\n",
      "(5, 5)\n",
      "[[0. 2. 0. 2. 2.]\n",
      " [2. 0. 2. 0. 0.]\n",
      " [0. 0. 0. 2. 2.]\n",
      " [2. 2. 2. 2. 2.]\n",
      " [2. 2. 0. 2. 0.]]\n",
      "[[ 0.         17.96077694  0.         20.94982983 20.40847985]\n",
      " [16.89307257  0.         20.38723843  0.          0.        ]\n",
      " [ 0.          0.          0.         21.55926903 22.12045162]\n",
      " [18.5277478  17.3737238  17.1244994  19.76610173 18.82931105]\n",
      " [18.4771727  20.6570106   0.         20.38775098  0.        ]]\n"
     ]
    }
   ],
   "source": [
    "p = 0.5\n",
    "mask = np.random.rand(*x.shape)\n",
    "print(mask)\n",
    "print(np.random.rand(*x.shape) < p)\n",
    "mask = (np.random.rand(*x.shape) < p) /p\n",
    "print(mask.shape)\n",
    "print(mask)\n",
    "print(x*mask)"
   ]
  }
 ],
 "metadata": {
  "kernelspec": {
   "display_name": "base",
   "language": "python",
   "name": "python3"
  },
  "language_info": {
   "codemirror_mode": {
    "name": "ipython",
    "version": 3
   },
   "file_extension": ".py",
   "mimetype": "text/x-python",
   "name": "python",
   "nbconvert_exporter": "python",
   "pygments_lexer": "ipython3",
   "version": "3.9.12"
  },
  "orig_nbformat": 4
 },
 "nbformat": 4,
 "nbformat_minor": 2
}
